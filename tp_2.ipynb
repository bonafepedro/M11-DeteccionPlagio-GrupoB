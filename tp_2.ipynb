{
 "cells": [
  {
   "cell_type": "code",
   "execution_count": 6,
   "id": "f816bde4",
   "metadata": {},
   "outputs": [
    {
     "name": "stdout",
     "output_type": "stream",
     "text": [
      "Collecting psycopg2\n",
      "  Downloading psycopg2-2.9.6-cp38-cp38-win_amd64.whl (1.2 MB)\n",
      "Installing collected packages: psycopg2\n",
      "Successfully installed psycopg2-2.9.6\n",
      "Note: you may need to restart the kernel to use updated packages.\n"
     ]
    }
   ],
   "source": [
    "%pip install psycopg2"
   ]
  },
  {
   "cell_type": "code",
   "execution_count": 11,
   "id": "dcb58fa1",
   "metadata": {},
   "outputs": [],
   "source": [
    "import os\n",
    "import glob\n",
    "import pandas as pd\n",
    "import numpy as np\n",
    "from sqlalchemy import create_engine, text\n",
    "from sqlalchemy.ext.declarative import declarative_base\n",
    "from sqlalchemy import Column, Integer, String\n",
    "from sqlalchemy.orm import sessionmaker\n",
    "from sqlalchemy import ForeignKey\n",
    "from sqlalchemy.orm import relationship\n"
   ]
  },
  {
   "cell_type": "code",
   "execution_count": 13,
   "id": "1e9ad76a",
   "metadata": {},
   "outputs": [
    {
     "name": "stderr",
     "output_type": "stream",
     "text": [
      "<ipython-input-13-f61fc0281007>:7: MovedIn20Warning: The ``declarative_base()`` function is now available as sqlalchemy.orm.declarative_base(). (deprecated since: 2.0) (Background on SQLAlchemy 2.0 at: https://sqlalche.me/e/b8d9)\n",
      "  Base = declarative_base()\n"
     ]
    }
   ],
   "source": [
    "\n",
    "#creo el entorno\n",
    "engine = create_engine('sqlite:///deteccion_plagio_tp2.db')\n",
    "\n",
    "#creo la base\n",
    "Session = sessionmaker(bind=engine)\n",
    "session = Session()\n",
    "Base = declarative_base()\n",
    "\n",
    "# Actualiza las tablas en la base de datos\n",
    "Base.metadata.create_all(engine)\n",
    "\n",
    "#Defino las tablas\n",
    "\n",
    "class Documentos(Base):\n",
    "    __tablename__ = 'documentos'\n",
    "    id = Column(Integer, primary_key=True)\n",
    "    nombre_archivo = Column(String)\n",
    "    texto = Column(String)\n",
    "    \n",
    "class Segmentos(Base):\n",
    "    __tablename__ = 'segmentos'\n",
    "    id_segmento = Column(Integer, primary_key=True)\n",
    "    id_documento = Column(Integer, ForeignKey('documentos.id'))\n",
    "    segmento_texto = Column(String)\n",
    "    segmento_limpio = Column(String)\n",
    "    init_s = Column(String)\n",
    "    texto = Column(String)\n",
    "    \n",
    "    documento = relationship(\"Documentos\", backref=\"segmentos\")"
   ]
  },
  {
   "cell_type": "code",
   "execution_count": 19,
   "id": "a4acddc8",
   "metadata": {},
   "outputs": [],
   "source": [
    "# Función para guardar el contenido de un archivo en la base de datos\n",
    "def guardar_documento(ruta_archivo):\n",
    "    nombre_archivo = os.path.basename(ruta_archivo)\n",
    "    with open(ruta_archivo, 'r', encoding= \"utf-8-sig\") as archivo:\n",
    "        contenido = archivo.read()\n",
    "\n",
    "    nuevo_documento = Documentos(nombre_archivo=nombre_archivo, texto=contenido)\n",
    "    session.add(nuevo_documento)\n",
    "\n",
    "    try:\n",
    "        session.commit()\n",
    "        print(f\"Documento '{nombre_archivo}' guardado correctamente.\")\n",
    "    except IntegrityError:\n",
    "        session.rollback()\n",
    "        print(f\"Error al guardar el documento '{nombre_archivo}'.\")\n",
    "\n"
   ]
  },
  {
   "cell_type": "code",
   "execution_count": 20,
   "id": "c34a941e",
   "metadata": {},
   "outputs": [],
   "source": [
    "def countFiles(path, extension=\"*.txt\"): \n",
    "    \n",
    "    # Construir el patrón de búsqueda\n",
    "    patron = os.path.join(path, extension)\n",
    "    \n",
    "    # Obtener la lista de archivos que coinciden con el patrón\n",
    "    archivos = glob.glob(patron)\n",
    "    \n",
    "    return len(archivos)   "
   ]
  },
  {
   "cell_type": "code",
   "execution_count": 21,
   "id": "7d436a4c",
   "metadata": {},
   "outputs": [],
   "source": [
    "def load_corpus_documents(carpeta):\n",
    "\n",
    "    # Recorre los archivos de la carpeta\n",
    "    for archivo in os.listdir(carpeta):\n",
    "        ruta_archivo = os.path.join(carpeta, archivo)\n",
    "        if os.path.isfile(ruta_archivo) and archivo.endswith('.txt'):\n",
    "            guardar_documento(ruta_archivo)"
   ]
  },
  {
   "cell_type": "code",
   "execution_count": 22,
   "id": "395dcf7d",
   "metadata": {},
   "outputs": [],
   "source": [
    "def main():\n",
    "\n",
    "    \n",
    "    #Defino la carpeta donde esta el corpus y guardo los archivos en la base\n",
    "    path = os.path.join(os.getcwd(), \"corpus\")\n",
    "    load_corpus_documents(path)"
   ]
  },
  {
   "cell_type": "code",
   "execution_count": 23,
   "id": "53f6b88b",
   "metadata": {},
   "outputs": [
    {
     "name": "stdout",
     "output_type": "stream",
     "text": [
      "Documento 'juan.txt' guardado correctamente.\n",
      "Documento 'pepe.txt' guardado correctamente.\n"
     ]
    }
   ],
   "source": [
    "main()"
   ]
  },
  {
   "cell_type": "code",
   "execution_count": null,
   "id": "12145267",
   "metadata": {},
   "outputs": [],
   "source": []
  }
 ],
 "metadata": {
  "kernelspec": {
   "display_name": "Python 3",
   "language": "python",
   "name": "python3"
  },
  "language_info": {
   "codemirror_mode": {
    "name": "ipython",
    "version": 3
   },
   "file_extension": ".py",
   "mimetype": "text/x-python",
   "name": "python",
   "nbconvert_exporter": "python",
   "pygments_lexer": "ipython3",
   "version": "3.8.8"
  }
 },
 "nbformat": 4,
 "nbformat_minor": 5
}
